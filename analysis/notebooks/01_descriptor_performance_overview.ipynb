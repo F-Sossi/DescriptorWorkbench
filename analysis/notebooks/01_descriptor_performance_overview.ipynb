{
 "cells": [
  {
   "cell_type": "markdown",
   "metadata": {},
   "source": [
    "# Descriptor Performance Overview\n",
    "\n",
    "This notebook provides a comprehensive analysis of SIFT descriptor performance with different pooling strategies using the HPatches benchmark dataset.\n",
    "\n",
    "## 📊 **Analysis Overview:**\n",
    "\n",
    "### **Experiment Setup:**\n",
    "- **Base Descriptor**: SIFT (grayscale)\n",
    "- **Pooling Strategies**: None (baseline), DSP (Domain-Size Pooling), Stacking\n",
    "- **Dataset**: HPatches (illumination + viewpoint changes)\n",
    "- **Evaluation**: Macro MAP, Micro MAP, Precision@K metrics\n",
    "- **Total Experiments**: 4 configurations tested\n",
    "\n",
    "### **Key Research Questions:**\n",
    "1. **Performance Impact**: How much do pooling strategies improve descriptor matching?\n",
    "2. **Efficiency Trade-offs**: What's the computational cost vs. performance gain?\n",
    "3. **Metric Consistency**: Do Macro and Micro MAP tell the same story?\n",
    "4. **Practical Implications**: Which approach offers the best balance for real applications?\n",
    "\n",
    "### **Expected Findings:**\n",
    "- DSP pooling should show performance improvements over baseline\n",
    "- Processing time will increase with more complex pooling strategies\n",
    "- Different scenes (illumination vs viewpoint) may respond differently to pooling"
   ]
  },
  {
   "cell_type": "code",
   "execution_count": 9,
   "metadata": {},
   "outputs": [],
   "source": [
    "# Import required libraries\n",
    "import sqlite3\n",
    "import pandas as pd\n",
    "import numpy as np\n",
    "import matplotlib.pyplot as plt\n",
    "import seaborn as sns\n",
    "from pathlib import Path\n",
    "import plotly.express as px\n",
    "import plotly.graph_objects as go\n",
    "from plotly.subplots import make_subplots\n",
    "\n",
    "# Set up plotting style\n",
    "plt.style.use('seaborn-v0_8-darkgrid')\n",
    "sns.set_palette(\"husl\")\n",
    "pd.set_option('display.max_columns', None)\n",
    "\n",
    "# Database connection\n",
    "DB_PATH = \"../../build/experiments.db\""
   ]
  },
  {
   "cell_type": "code",
   "execution_count": 10,
   "metadata": {},
   "outputs": [
    {
     "name": "stdout",
     "output_type": "stream",
     "text": [
      "Loaded 40 experiment results\n",
      "Available MAP metrics (using primary columns):\n",
      "- Primary MAP: 0.3703 - 0.5501\n",
      "- Macro MAP: 0.3703 - 0.5501\n",
      "- Micro MAP: 0.3724 - 0.5450\n",
      "- Legacy MAP: 0.3826 - 0.5338\n"
     ]
    },
    {
     "data": {
      "text/html": [
       "<div>\n",
       "<style scoped>\n",
       "    .dataframe tbody tr th:only-of-type {\n",
       "        vertical-align: middle;\n",
       "    }\n",
       "\n",
       "    .dataframe tbody tr th {\n",
       "        vertical-align: top;\n",
       "    }\n",
       "\n",
       "    .dataframe thead th {\n",
       "        text-align: right;\n",
       "    }\n",
       "</style>\n",
       "<table border=\"1\" class=\"dataframe\">\n",
       "  <thead>\n",
       "    <tr style=\"text-align: right;\">\n",
       "      <th></th>\n",
       "      <th>experiment_id</th>\n",
       "      <th>descriptor_type</th>\n",
       "      <th>pooling_strategy</th>\n",
       "      <th>dataset_name</th>\n",
       "      <th>similarity_threshold</th>\n",
       "      <th>max_features</th>\n",
       "      <th>mean_average_precision</th>\n",
       "      <th>true_map_macro</th>\n",
       "      <th>true_map_micro</th>\n",
       "      <th>true_map_macro_with_zeros</th>\n",
       "      <th>true_map_micro_with_zeros</th>\n",
       "      <th>legacy_mean_precision</th>\n",
       "      <th>precision_at_1</th>\n",
       "      <th>precision_at_5</th>\n",
       "      <th>recall_at_1</th>\n",
       "      <th>recall_at_5</th>\n",
       "      <th>total_matches</th>\n",
       "      <th>total_keypoints</th>\n",
       "      <th>processing_time_ms</th>\n",
       "      <th>metadata</th>\n",
       "      <th>macro_map</th>\n",
       "      <th>micro_map</th>\n",
       "      <th>macro_map_with_zeros</th>\n",
       "      <th>micro_map_with_zeros</th>\n",
       "    </tr>\n",
       "  </thead>\n",
       "  <tbody>\n",
       "    <tr>\n",
       "      <th>0</th>\n",
       "      <td>40</td>\n",
       "      <td>dspsift_color_stacking_l2</td>\n",
       "      <td>stacking</td>\n",
       "      <td>../data/</td>\n",
       "      <td>0.8</td>\n",
       "      <td>2000</td>\n",
       "      <td>0.525271</td>\n",
       "      <td>0.525271</td>\n",
       "      <td>0.521879</td>\n",
       "      <td>0.484795</td>\n",
       "      <td>0.472547</td>\n",
       "      <td>0.530925</td>\n",
       "      <td>0.479841</td>\n",
       "      <td>0.564206</td>\n",
       "      <td>0.479841</td>\n",
       "      <td>0.564206</td>\n",
       "      <td>64501</td>\n",
       "      <td>101940</td>\n",
       "      <td>64813.0</td>\n",
       "      <td>compute_time_ms=26107.000000;detect_time_ms=0....</td>\n",
       "      <td>0.525271</td>\n",
       "      <td>0.521879</td>\n",
       "      <td>0.484795</td>\n",
       "      <td>0.472547</td>\n",
       "    </tr>\n",
       "    <tr>\n",
       "      <th>1</th>\n",
       "      <td>39</td>\n",
       "      <td>dspsift_grayscale_stacking_l2</td>\n",
       "      <td>stacking</td>\n",
       "      <td>../data/</td>\n",
       "      <td>0.8</td>\n",
       "      <td>2000</td>\n",
       "      <td>0.525271</td>\n",
       "      <td>0.525271</td>\n",
       "      <td>0.521879</td>\n",
       "      <td>0.484795</td>\n",
       "      <td>0.472547</td>\n",
       "      <td>0.530925</td>\n",
       "      <td>0.479841</td>\n",
       "      <td>0.564206</td>\n",
       "      <td>0.479841</td>\n",
       "      <td>0.564206</td>\n",
       "      <td>64501</td>\n",
       "      <td>101940</td>\n",
       "      <td>65033.0</td>\n",
       "      <td>compute_time_ms=26193.000000;detect_time_ms=0....</td>\n",
       "      <td>0.525271</td>\n",
       "      <td>0.521879</td>\n",
       "      <td>0.484795</td>\n",
       "      <td>0.472547</td>\n",
       "    </tr>\n",
       "    <tr>\n",
       "      <th>2</th>\n",
       "      <td>38</td>\n",
       "      <td>dspsift_color_dsp_l1</td>\n",
       "      <td>domain_size_pooling</td>\n",
       "      <td>../data/</td>\n",
       "      <td>0.8</td>\n",
       "      <td>2000</td>\n",
       "      <td>0.550113</td>\n",
       "      <td>0.550113</td>\n",
       "      <td>0.544967</td>\n",
       "      <td>0.506100</td>\n",
       "      <td>0.493452</td>\n",
       "      <td>0.533765</td>\n",
       "      <td>0.503414</td>\n",
       "      <td>0.587436</td>\n",
       "      <td>0.503414</td>\n",
       "      <td>0.587436</td>\n",
       "      <td>67693</td>\n",
       "      <td>101940</td>\n",
       "      <td>130871.0</td>\n",
       "      <td>compute_time_ms=97831.000000;detect_time_ms=0....</td>\n",
       "      <td>0.550113</td>\n",
       "      <td>0.544967</td>\n",
       "      <td>0.506100</td>\n",
       "      <td>0.493452</td>\n",
       "    </tr>\n",
       "    <tr>\n",
       "      <th>3</th>\n",
       "      <td>37</td>\n",
       "      <td>dspsift_baseline_grayscale_dsp_l1</td>\n",
       "      <td>domain_size_pooling</td>\n",
       "      <td>../data/</td>\n",
       "      <td>0.8</td>\n",
       "      <td>2000</td>\n",
       "      <td>0.550104</td>\n",
       "      <td>0.550104</td>\n",
       "      <td>0.544956</td>\n",
       "      <td>0.506090</td>\n",
       "      <td>0.493442</td>\n",
       "      <td>0.533552</td>\n",
       "      <td>0.503404</td>\n",
       "      <td>0.587367</td>\n",
       "      <td>0.503404</td>\n",
       "      <td>0.587367</td>\n",
       "      <td>67697</td>\n",
       "      <td>101940</td>\n",
       "      <td>129211.0</td>\n",
       "      <td>compute_time_ms=95983.000000;detect_time_ms=0....</td>\n",
       "      <td>0.550104</td>\n",
       "      <td>0.544956</td>\n",
       "      <td>0.506090</td>\n",
       "      <td>0.493442</td>\n",
       "    </tr>\n",
       "    <tr>\n",
       "      <th>4</th>\n",
       "      <td>36</td>\n",
       "      <td>dspsift_baseline_color_dsp_l2</td>\n",
       "      <td>domain_size_pooling</td>\n",
       "      <td>../data/</td>\n",
       "      <td>0.8</td>\n",
       "      <td>2000</td>\n",
       "      <td>0.550113</td>\n",
       "      <td>0.550113</td>\n",
       "      <td>0.544967</td>\n",
       "      <td>0.506100</td>\n",
       "      <td>0.493452</td>\n",
       "      <td>0.533765</td>\n",
       "      <td>0.503414</td>\n",
       "      <td>0.587436</td>\n",
       "      <td>0.503414</td>\n",
       "      <td>0.587436</td>\n",
       "      <td>67693</td>\n",
       "      <td>101940</td>\n",
       "      <td>129615.0</td>\n",
       "      <td>compute_time_ms=96668.000000;detect_time_ms=0....</td>\n",
       "      <td>0.550113</td>\n",
       "      <td>0.544967</td>\n",
       "      <td>0.506100</td>\n",
       "      <td>0.493452</td>\n",
       "    </tr>\n",
       "  </tbody>\n",
       "</table>\n",
       "</div>"
      ],
      "text/plain": [
       "   experiment_id                    descriptor_type     pooling_strategy  \\\n",
       "0             40          dspsift_color_stacking_l2             stacking   \n",
       "1             39      dspsift_grayscale_stacking_l2             stacking   \n",
       "2             38               dspsift_color_dsp_l1  domain_size_pooling   \n",
       "3             37  dspsift_baseline_grayscale_dsp_l1  domain_size_pooling   \n",
       "4             36      dspsift_baseline_color_dsp_l2  domain_size_pooling   \n",
       "\n",
       "  dataset_name  similarity_threshold  max_features  mean_average_precision  \\\n",
       "0     ../data/                   0.8          2000                0.525271   \n",
       "1     ../data/                   0.8          2000                0.525271   \n",
       "2     ../data/                   0.8          2000                0.550113   \n",
       "3     ../data/                   0.8          2000                0.550104   \n",
       "4     ../data/                   0.8          2000                0.550113   \n",
       "\n",
       "   true_map_macro  true_map_micro  true_map_macro_with_zeros  \\\n",
       "0        0.525271        0.521879                   0.484795   \n",
       "1        0.525271        0.521879                   0.484795   \n",
       "2        0.550113        0.544967                   0.506100   \n",
       "3        0.550104        0.544956                   0.506090   \n",
       "4        0.550113        0.544967                   0.506100   \n",
       "\n",
       "   true_map_micro_with_zeros  legacy_mean_precision  precision_at_1  \\\n",
       "0                   0.472547               0.530925        0.479841   \n",
       "1                   0.472547               0.530925        0.479841   \n",
       "2                   0.493452               0.533765        0.503414   \n",
       "3                   0.493442               0.533552        0.503404   \n",
       "4                   0.493452               0.533765        0.503414   \n",
       "\n",
       "   precision_at_5  recall_at_1  recall_at_5  total_matches  total_keypoints  \\\n",
       "0        0.564206     0.479841     0.564206          64501           101940   \n",
       "1        0.564206     0.479841     0.564206          64501           101940   \n",
       "2        0.587436     0.503414     0.587436          67693           101940   \n",
       "3        0.587367     0.503404     0.587367          67697           101940   \n",
       "4        0.587436     0.503414     0.587436          67693           101940   \n",
       "\n",
       "   processing_time_ms                                           metadata  \\\n",
       "0             64813.0  compute_time_ms=26107.000000;detect_time_ms=0....   \n",
       "1             65033.0  compute_time_ms=26193.000000;detect_time_ms=0....   \n",
       "2            130871.0  compute_time_ms=97831.000000;detect_time_ms=0....   \n",
       "3            129211.0  compute_time_ms=95983.000000;detect_time_ms=0....   \n",
       "4            129615.0  compute_time_ms=96668.000000;detect_time_ms=0....   \n",
       "\n",
       "   macro_map  micro_map  macro_map_with_zeros  micro_map_with_zeros  \n",
       "0   0.525271   0.521879              0.484795              0.472547  \n",
       "1   0.525271   0.521879              0.484795              0.472547  \n",
       "2   0.550113   0.544967              0.506100              0.493452  \n",
       "3   0.550104   0.544956              0.506090              0.493442  \n",
       "4   0.550113   0.544967              0.506100              0.493452  "
      ]
     },
     "execution_count": 10,
     "metadata": {},
     "output_type": "execute_result"
    }
   ],
   "source": [
    "# Connect to database and load experiment data\n",
    "def load_experiment_data():\n",
    "    conn = sqlite3.connect(DB_PATH)\n",
    "    \n",
    "    query = \"\"\"\n",
    "    SELECT \n",
    "        e.id as experiment_id,\n",
    "        e.descriptor_type,\n",
    "        e.pooling_strategy,\n",
    "        e.dataset_name,\n",
    "        e.similarity_threshold,\n",
    "        e.max_features,\n",
    "        r.mean_average_precision,\n",
    "        r.true_map_macro,\n",
    "        r.true_map_micro,\n",
    "        r.true_map_macro_with_zeros,\n",
    "        r.true_map_micro_with_zeros,\n",
    "        r.legacy_mean_precision,\n",
    "        r.precision_at_1,\n",
    "        r.precision_at_5,\n",
    "        r.recall_at_1,\n",
    "        r.recall_at_5,\n",
    "        r.total_matches,\n",
    "        r.total_keypoints,\n",
    "        r.processing_time_ms,\n",
    "        r.metadata\n",
    "    FROM experiments e \n",
    "    JOIN results r ON e.id = r.experiment_id\n",
    "    ORDER BY e.id DESC\n",
    "    \"\"\"\n",
    "    \n",
    "    df = pd.read_sql_query(query, conn)\n",
    "    conn.close()\n",
    "    \n",
    "    return df\n",
    "\n",
    "# UPDATED: No longer need to extract from metadata - using primary columns\n",
    "def process_map_columns(df):\n",
    "    \"\"\"Process MAP columns and provide backward compatibility aliases\"\"\"\n",
    "    df = df.copy()\n",
    "    \n",
    "    # Create aliases for compatibility with existing code\n",
    "    df['macro_map'] = df['true_map_macro']\n",
    "    df['micro_map'] = df['true_map_micro']\n",
    "    df['macro_map_with_zeros'] = df['true_map_macro_with_zeros']\n",
    "    df['micro_map_with_zeros'] = df['true_map_micro_with_zeros']\n",
    "    \n",
    "    # Handle NaN values that might exist in older records\n",
    "    df['macro_map'] = df['macro_map'].fillna(df['mean_average_precision'])\n",
    "    df['micro_map'] = df['micro_map'].fillna(df['mean_average_precision'])\n",
    "    \n",
    "    return df\n",
    "\n",
    "# Load data\n",
    "df = load_experiment_data()\n",
    "df = process_map_columns(df)\n",
    "print(f\"Loaded {len(df)} experiment results\")\n",
    "print(\"Available MAP metrics (using primary columns):\")\n",
    "print(f\"- Primary MAP: {df['mean_average_precision'].min():.4f} - {df['mean_average_precision'].max():.4f}\")\n",
    "print(f\"- Macro MAP: {df['macro_map'].min():.4f} - {df['macro_map'].max():.4f}\")\n",
    "print(f\"- Micro MAP: {df['micro_map'].min():.4f} - {df['micro_map'].max():.4f}\")\n",
    "if df['legacy_mean_precision'].notna().any():\n",
    "    print(f\"- Legacy MAP: {df['legacy_mean_precision'].min():.4f} - {df['legacy_mean_precision'].max():.4f}\")\n",
    "df.head()"
   ]
  },
  {
   "cell_type": "code",
   "execution_count": 25,
   "metadata": {},
   "outputs": [
    {
     "name": "stdout",
     "output_type": "stream",
     "text": [
      "\n",
      "Processed descriptor features:\n",
      "Base descriptors: ['SIFT']\n",
      "Pooling strategies: ['Stacking' 'DSP' 'None']\n",
      "Normalization types: ['L2']\n"
     ]
    }
   ],
   "source": [
    "# Data preprocessing and feature extraction\n",
    "def extract_descriptor_features(df):\n",
    "    \"\"\"Extract features from descriptor names for analysis\"\"\"\n",
    "    df = df.copy()\n",
    "    \n",
    "    # Extract color information\n",
    "    df['uses_color'] = df['descriptor_type'].str.contains('rgb', case=False)\n",
    "    \n",
    "    # Extract base descriptor type\n",
    "    df['base_descriptor'] = df['descriptor_type'].str.extract(r'(sift|rgbsift|honc|vgg|dnn)', expand=False).str.upper()\n",
    "    \n",
    "    # Extract normalization information from descriptor name\n",
    "    df['normalization'] = 'L2'  # Default\n",
    "    df.loc[df['descriptor_type'].str.contains('l1', case=False), 'normalization'] = 'L1'\n",
    "    \n",
    "    # Clean pooling strategy names\n",
    "    pooling_map = {\n",
    "        'none': 'None',\n",
    "        'domain_size_pooling': 'DSP',\n",
    "        'stacking': 'Stacking'\n",
    "    }\n",
    "    df['pooling_clean'] = df['pooling_strategy'].map(pooling_map).fillna(df['pooling_strategy'])\n",
    "    \n",
    "    return df\n",
    "\n",
    "df_processed = extract_descriptor_features(df)\n",
    "print(\"\\nProcessed descriptor features:\")\n",
    "print(f\"Base descriptors: {df_processed['base_descriptor'].unique()}\")\n",
    "print(f\"Pooling strategies: {df_processed['pooling_clean'].unique()}\")\n",
    "print(f\"Normalization types: {df_processed['normalization'].unique()}\")"
   ]
  },
  {
   "cell_type": "markdown",
   "metadata": {},
   "source": [
    "## Performance Overview Dashboard"
   ]
  },
  {
   "cell_type": "code",
   "execution_count": 26,
   "metadata": {},
   "outputs": [
    {
     "data": {
      "application/vnd.plotly.v1+json": {
       "config": {
        "plotlyServerURL": "https://plot.ly"
       },
       "data": [
        {
         "marker": {
          "color": [
           "lightgreen",
           "lightcoral",
           "lightblue",
           "lightblue"
          ],
          "line": {
           "color": "white",
           "width": 2
          },
          "size": 12
         },
         "mode": "markers+text",
         "name": "Macro vs Micro MAP",
         "showlegend": false,
         "text": [
          "Stacking",
          "DSP",
          "None",
          "None"
         ],
         "textposition": "middle right",
         "type": "scatter",
         "x": {
          "bdata": "GOlF7X4V1z9cyCO4kbLXP8a+ZOPBFtc/xr5k48EW1z8=",
          "dtype": "f8"
         },
         "xaxis": "x",
         "y": {
          "bdata": "Ul+Wdmou1z+R1ELJ5NTXPzW4rS08L9c/NbitLTwv1z8=",
          "dtype": "f8"
         },
         "yaxis": "y"
        },
        {
         "line": {
          "color": "gray",
          "dash": "dash",
          "width": 1
         },
         "mode": "lines",
         "showlegend": false,
         "type": "scatter",
         "x": [
          0.360687,
          0.372369
         ],
         "xaxis": "x",
         "y": [
          0.360687,
          0.372369
         ],
         "yaxis": "y"
        },
        {
         "marker": {
          "color": "lightblue"
         },
         "name": "Macro Map",
         "offsetgroup": "0",
         "type": "bar",
         "width": 0.25,
         "x": [
          "DSP",
          "None",
          "Stacking"
         ],
         "xaxis": "x2",
         "y": {
          "bdata": "XMgjuJGy1z/GvmTjwRbXPxjpRe1+Fdc/",
          "dtype": "f8"
         },
         "yaxis": "y2"
        },
        {
         "marker": {
          "color": "lightcoral"
         },
         "name": "Micro Map",
         "offsetgroup": "1",
         "type": "bar",
         "width": 0.25,
         "x": [
          "DSP",
          "None",
          "Stacking"
         ],
         "xaxis": "x2",
         "y": {
          "bdata": "kdRCyeTU1z81uK0tPC/XP1JflnZqLtc/",
          "dtype": "f8"
         },
         "yaxis": "y2"
        },
        {
         "marker": {
          "color": "lightgreen"
         },
         "name": "Legacy MAP",
         "offsetgroup": "2",
         "type": "bar",
         "width": 0.25,
         "x": [
          "DSP",
          "None",
          "Stacking"
         ],
         "xaxis": "x2",
         "y": {
          "bdata": "p4NGrpOy1z+zn40jwRbXP53l0wx/Fdc/",
          "dtype": "f8"
         },
         "yaxis": "y2"
        },
        {
         "marker": {
          "color": "orange"
         },
         "name": "P@at@1",
         "offsetgroup": "0",
         "type": "bar",
         "width": 0.35,
         "x": [
          "Stacking",
          "DSP",
          "None",
          "None"
         ],
         "xaxis": "x3",
         "y": {
          "bdata": "c7DeleWC0T/BXCDKACLSPzthC6vOg9E/O2ELq86D0T8=",
          "dtype": "f8"
         },
         "yaxis": "y3"
        },
        {
         "marker": {
          "color": "purple"
         },
         "name": "P@at@5",
         "offsetgroup": "1",
         "type": "bar",
         "width": 0.35,
         "x": [
          "Stacking",
          "DSP",
          "None",
          "None"
         ],
         "xaxis": "x3",
         "y": {
          "bdata": "NT4CNDZN3T+TYrztufXdP7tedZfRTd0/u151l9FN3T8=",
          "dtype": "f8"
         },
         "yaxis": "y3"
        },
        {
         "marker": {
          "color": {
           "bdata": "GOlF7X4V1z9cyCO4kbLXP8a+ZOPBFtc/xr5k48EW1z8=",
           "dtype": "f8"
          },
          "colorbar": {
           "len": 0.3,
           "title": {
            "text": "Macro MAP"
           },
           "y": 0.4
          },
          "colorscale": [
           [
            0,
            "rgb(165,0,38)"
           ],
           [
            0.1,
            "rgb(215,48,39)"
           ],
           [
            0.2,
            "rgb(244,109,67)"
           ],
           [
            0.3,
            "rgb(253,174,97)"
           ],
           [
            0.4,
            "rgb(254,224,139)"
           ],
           [
            0.5,
            "rgb(255,255,191)"
           ],
           [
            0.6,
            "rgb(217,239,139)"
           ],
           [
            0.7,
            "rgb(166,217,106)"
           ],
           [
            0.8,
            "rgb(102,189,99)"
           ],
           [
            0.9,
            "rgb(26,152,80)"
           ],
           [
            1,
            "rgb(0,104,55)"
           ]
          ],
          "showscale": true,
          "size": 15
         },
         "mode": "markers+text",
         "name": "Time vs Performance",
         "showlegend": false,
         "text": [
          "Stacking",
          "DSP",
          "None",
          "None"
         ],
         "textposition": "top center",
         "type": "scatter",
         "x": {
          "bdata": "rBxaZDufaEC+nxov3UBpQHE9CtejYGRAGQRWDi2aZEA=",
          "dtype": "f8"
         },
         "xaxis": "x4",
         "y": {
          "bdata": "GOlF7X4V1z9cyCO4kbLXP8a+ZOPBFtc/xr5k48EW1z8=",
          "dtype": "f8"
         },
         "yaxis": "y4"
        },
        {
         "colorbar": {
          "len": 0.3,
          "title": {
           "text": "MAP Value"
          },
          "y": 0.15
         },
         "colorscale": [
          [
           0,
           "rgb(165,0,38)"
          ],
          [
           0.1,
           "rgb(215,48,39)"
          ],
          [
           0.2,
           "rgb(244,109,67)"
          ],
          [
           0.3,
           "rgb(253,174,97)"
          ],
          [
           0.4,
           "rgb(254,224,139)"
          ],
          [
           0.5,
           "rgb(255,255,191)"
          ],
          [
           0.6,
           "rgb(217,239,139)"
          ],
          [
           0.7,
           "rgb(166,217,106)"
          ],
          [
           0.8,
           "rgb(102,189,99)"
          ],
          [
           0.9,
           "rgb(26,152,80)"
          ],
          [
           1,
           "rgb(0,104,55)"
          ]
         ],
         "showscale": true,
         "text": [
          [
           "0.361",
           "0.362"
          ],
          [
           "0.370",
           "0.372"
          ],
          [
           "0.361",
           "0.362"
          ]
         ],
         "textfont": {
          "size": 12
         },
         "texttemplate": "%{text}",
         "type": "heatmap",
         "x": [
          "Macro MAP",
          "Micro MAP"
         ],
         "xaxis": "x5",
         "y": [
          "Stacking",
          "DSP",
          "None"
         ],
         "yaxis": "y5",
         "z": [
          [
           0.360687,
           0.362208
          ],
          [
           0.370274,
           0.372369
          ],
          [
           0.360764,
           0.362258
          ]
         ]
        },
        {
         "boxpoints": "all",
         "jitter": 0.3,
         "marker": {
          "color": "lightblue"
         },
         "name": "Macro MAP",
         "pointpos": -1.8,
         "type": "box",
         "xaxis": "x6",
         "y": {
          "bdata": "GOlF7X4V1z9cyCO4kbLXP8a+ZOPBFtc/xr5k48EW1z8=",
          "dtype": "f8"
         },
         "yaxis": "y6"
        },
        {
         "boxpoints": "all",
         "jitter": 0.3,
         "marker": {
          "color": "lightcoral"
         },
         "name": "Micro MAP",
         "pointpos": 1.8,
         "type": "box",
         "xaxis": "x6",
         "y": {
          "bdata": "Ul+Wdmou1z+R1ELJ5NTXPzW4rS08L9c/NbitLTwv1z8=",
          "dtype": "f8"
         },
         "yaxis": "y6"
        }
       ],
       "layout": {
        "annotations": [
         {
          "font": {
           "size": 16
          },
          "showarrow": false,
          "text": "Macro vs Micro MAP Comparison",
          "x": 0.2125,
          "xanchor": "center",
          "xref": "paper",
          "y": 1,
          "yanchor": "bottom",
          "yref": "paper"
         },
         {
          "font": {
           "size": 16
          },
          "showarrow": false,
          "text": "MAP Metrics by Pooling Strategy",
          "x": 0.7875,
          "xanchor": "center",
          "xref": "paper",
          "y": 1,
          "yanchor": "bottom",
          "yref": "paper"
         },
         {
          "font": {
           "size": 16
          },
          "showarrow": false,
          "text": "Precision@K Performance",
          "x": 0.2125,
          "xanchor": "center",
          "xref": "paper",
          "y": 0.6266666666666667,
          "yanchor": "bottom",
          "yref": "paper"
         },
         {
          "font": {
           "size": 16
          },
          "showarrow": false,
          "text": "Processing Time vs Performance",
          "x": 0.7875,
          "xanchor": "center",
          "xref": "paper",
          "y": 0.6266666666666667,
          "yanchor": "bottom",
          "yref": "paper"
         },
         {
          "font": {
           "size": 16
          },
          "showarrow": false,
          "text": "Performance Heatmap",
          "x": 0.2125,
          "xanchor": "center",
          "xref": "paper",
          "y": 0.25333333333333335,
          "yanchor": "bottom",
          "yref": "paper"
         },
         {
          "font": {
           "size": 16
          },
          "showarrow": false,
          "text": "MAP Distribution",
          "x": 0.7875,
          "xanchor": "center",
          "xref": "paper",
          "y": 0.25333333333333335,
          "yanchor": "bottom",
          "yref": "paper"
         }
        ],
        "height": 1000,
        "legend": {
         "orientation": "h",
         "x": 1,
         "xanchor": "right",
         "y": 1.02,
         "yanchor": "bottom"
        },
        "showlegend": true,
        "template": {
         "data": {
          "bar": [
           {
            "error_x": {
             "color": "#2a3f5f"
            },
            "error_y": {
             "color": "#2a3f5f"
            },
            "marker": {
             "line": {
              "color": "#E5ECF6",
              "width": 0.5
             },
             "pattern": {
              "fillmode": "overlay",
              "size": 10,
              "solidity": 0.2
             }
            },
            "type": "bar"
           }
          ],
          "barpolar": [
           {
            "marker": {
             "line": {
              "color": "#E5ECF6",
              "width": 0.5
             },
             "pattern": {
              "fillmode": "overlay",
              "size": 10,
              "solidity": 0.2
             }
            },
            "type": "barpolar"
           }
          ],
          "carpet": [
           {
            "aaxis": {
             "endlinecolor": "#2a3f5f",
             "gridcolor": "white",
             "linecolor": "white",
             "minorgridcolor": "white",
             "startlinecolor": "#2a3f5f"
            },
            "baxis": {
             "endlinecolor": "#2a3f5f",
             "gridcolor": "white",
             "linecolor": "white",
             "minorgridcolor": "white",
             "startlinecolor": "#2a3f5f"
            },
            "type": "carpet"
           }
          ],
          "choropleth": [
           {
            "colorbar": {
             "outlinewidth": 0,
             "ticks": ""
            },
            "type": "choropleth"
           }
          ],
          "contour": [
           {
            "colorbar": {
             "outlinewidth": 0,
             "ticks": ""
            },
            "colorscale": [
             [
              0,
              "#0d0887"
             ],
             [
              0.1111111111111111,
              "#46039f"
             ],
             [
              0.2222222222222222,
              "#7201a8"
             ],
             [
              0.3333333333333333,
              "#9c179e"
             ],
             [
              0.4444444444444444,
              "#bd3786"
             ],
             [
              0.5555555555555556,
              "#d8576b"
             ],
             [
              0.6666666666666666,
              "#ed7953"
             ],
             [
              0.7777777777777778,
              "#fb9f3a"
             ],
             [
              0.8888888888888888,
              "#fdca26"
             ],
             [
              1,
              "#f0f921"
             ]
            ],
            "type": "contour"
           }
          ],
          "contourcarpet": [
           {
            "colorbar": {
             "outlinewidth": 0,
             "ticks": ""
            },
            "type": "contourcarpet"
           }
          ],
          "heatmap": [
           {
            "colorbar": {
             "outlinewidth": 0,
             "ticks": ""
            },
            "colorscale": [
             [
              0,
              "#0d0887"
             ],
             [
              0.1111111111111111,
              "#46039f"
             ],
             [
              0.2222222222222222,
              "#7201a8"
             ],
             [
              0.3333333333333333,
              "#9c179e"
             ],
             [
              0.4444444444444444,
              "#bd3786"
             ],
             [
              0.5555555555555556,
              "#d8576b"
             ],
             [
              0.6666666666666666,
              "#ed7953"
             ],
             [
              0.7777777777777778,
              "#fb9f3a"
             ],
             [
              0.8888888888888888,
              "#fdca26"
             ],
             [
              1,
              "#f0f921"
             ]
            ],
            "type": "heatmap"
           }
          ],
          "histogram": [
           {
            "marker": {
             "pattern": {
              "fillmode": "overlay",
              "size": 10,
              "solidity": 0.2
             }
            },
            "type": "histogram"
           }
          ],
          "histogram2d": [
           {
            "colorbar": {
             "outlinewidth": 0,
             "ticks": ""
            },
            "colorscale": [
             [
              0,
              "#0d0887"
             ],
             [
              0.1111111111111111,
              "#46039f"
             ],
             [
              0.2222222222222222,
              "#7201a8"
             ],
             [
              0.3333333333333333,
              "#9c179e"
             ],
             [
              0.4444444444444444,
              "#bd3786"
             ],
             [
              0.5555555555555556,
              "#d8576b"
             ],
             [
              0.6666666666666666,
              "#ed7953"
             ],
             [
              0.7777777777777778,
              "#fb9f3a"
             ],
             [
              0.8888888888888888,
              "#fdca26"
             ],
             [
              1,
              "#f0f921"
             ]
            ],
            "type": "histogram2d"
           }
          ],
          "histogram2dcontour": [
           {
            "colorbar": {
             "outlinewidth": 0,
             "ticks": ""
            },
            "colorscale": [
             [
              0,
              "#0d0887"
             ],
             [
              0.1111111111111111,
              "#46039f"
             ],
             [
              0.2222222222222222,
              "#7201a8"
             ],
             [
              0.3333333333333333,
              "#9c179e"
             ],
             [
              0.4444444444444444,
              "#bd3786"
             ],
             [
              0.5555555555555556,
              "#d8576b"
             ],
             [
              0.6666666666666666,
              "#ed7953"
             ],
             [
              0.7777777777777778,
              "#fb9f3a"
             ],
             [
              0.8888888888888888,
              "#fdca26"
             ],
             [
              1,
              "#f0f921"
             ]
            ],
            "type": "histogram2dcontour"
           }
          ],
          "mesh3d": [
           {
            "colorbar": {
             "outlinewidth": 0,
             "ticks": ""
            },
            "type": "mesh3d"
           }
          ],
          "parcoords": [
           {
            "line": {
             "colorbar": {
              "outlinewidth": 0,
              "ticks": ""
             }
            },
            "type": "parcoords"
           }
          ],
          "pie": [
           {
            "automargin": true,
            "type": "pie"
           }
          ],
          "scatter": [
           {
            "fillpattern": {
             "fillmode": "overlay",
             "size": 10,
             "solidity": 0.2
            },
            "type": "scatter"
           }
          ],
          "scatter3d": [
           {
            "line": {
             "colorbar": {
              "outlinewidth": 0,
              "ticks": ""
             }
            },
            "marker": {
             "colorbar": {
              "outlinewidth": 0,
              "ticks": ""
             }
            },
            "type": "scatter3d"
           }
          ],
          "scattercarpet": [
           {
            "marker": {
             "colorbar": {
              "outlinewidth": 0,
              "ticks": ""
             }
            },
            "type": "scattercarpet"
           }
          ],
          "scattergeo": [
           {
            "marker": {
             "colorbar": {
              "outlinewidth": 0,
              "ticks": ""
             }
            },
            "type": "scattergeo"
           }
          ],
          "scattergl": [
           {
            "marker": {
             "colorbar": {
              "outlinewidth": 0,
              "ticks": ""
             }
            },
            "type": "scattergl"
           }
          ],
          "scattermap": [
           {
            "marker": {
             "colorbar": {
              "outlinewidth": 0,
              "ticks": ""
             }
            },
            "type": "scattermap"
           }
          ],
          "scattermapbox": [
           {
            "marker": {
             "colorbar": {
              "outlinewidth": 0,
              "ticks": ""
             }
            },
            "type": "scattermapbox"
           }
          ],
          "scatterpolar": [
           {
            "marker": {
             "colorbar": {
              "outlinewidth": 0,
              "ticks": ""
             }
            },
            "type": "scatterpolar"
           }
          ],
          "scatterpolargl": [
           {
            "marker": {
             "colorbar": {
              "outlinewidth": 0,
              "ticks": ""
             }
            },
            "type": "scatterpolargl"
           }
          ],
          "scatterternary": [
           {
            "marker": {
             "colorbar": {
              "outlinewidth": 0,
              "ticks": ""
             }
            },
            "type": "scatterternary"
           }
          ],
          "surface": [
           {
            "colorbar": {
             "outlinewidth": 0,
             "ticks": ""
            },
            "colorscale": [
             [
              0,
              "#0d0887"
             ],
             [
              0.1111111111111111,
              "#46039f"
             ],
             [
              0.2222222222222222,
              "#7201a8"
             ],
             [
              0.3333333333333333,
              "#9c179e"
             ],
             [
              0.4444444444444444,
              "#bd3786"
             ],
             [
              0.5555555555555556,
              "#d8576b"
             ],
             [
              0.6666666666666666,
              "#ed7953"
             ],
             [
              0.7777777777777778,
              "#fb9f3a"
             ],
             [
              0.8888888888888888,
              "#fdca26"
             ],
             [
              1,
              "#f0f921"
             ]
            ],
            "type": "surface"
           }
          ],
          "table": [
           {
            "cells": {
             "fill": {
              "color": "#EBF0F8"
             },
             "line": {
              "color": "white"
             }
            },
            "header": {
             "fill": {
              "color": "#C8D4E3"
             },
             "line": {
              "color": "white"
             }
            },
            "type": "table"
           }
          ]
         },
         "layout": {
          "annotationdefaults": {
           "arrowcolor": "#2a3f5f",
           "arrowhead": 0,
           "arrowwidth": 1
          },
          "autotypenumbers": "strict",
          "coloraxis": {
           "colorbar": {
            "outlinewidth": 0,
            "ticks": ""
           }
          },
          "colorscale": {
           "diverging": [
            [
             0,
             "#8e0152"
            ],
            [
             0.1,
             "#c51b7d"
            ],
            [
             0.2,
             "#de77ae"
            ],
            [
             0.3,
             "#f1b6da"
            ],
            [
             0.4,
             "#fde0ef"
            ],
            [
             0.5,
             "#f7f7f7"
            ],
            [
             0.6,
             "#e6f5d0"
            ],
            [
             0.7,
             "#b8e186"
            ],
            [
             0.8,
             "#7fbc41"
            ],
            [
             0.9,
             "#4d9221"
            ],
            [
             1,
             "#276419"
            ]
           ],
           "sequential": [
            [
             0,
             "#0d0887"
            ],
            [
             0.1111111111111111,
             "#46039f"
            ],
            [
             0.2222222222222222,
             "#7201a8"
            ],
            [
             0.3333333333333333,
             "#9c179e"
            ],
            [
             0.4444444444444444,
             "#bd3786"
            ],
            [
             0.5555555555555556,
             "#d8576b"
            ],
            [
             0.6666666666666666,
             "#ed7953"
            ],
            [
             0.7777777777777778,
             "#fb9f3a"
            ],
            [
             0.8888888888888888,
             "#fdca26"
            ],
            [
             1,
             "#f0f921"
            ]
           ],
           "sequentialminus": [
            [
             0,
             "#0d0887"
            ],
            [
             0.1111111111111111,
             "#46039f"
            ],
            [
             0.2222222222222222,
             "#7201a8"
            ],
            [
             0.3333333333333333,
             "#9c179e"
            ],
            [
             0.4444444444444444,
             "#bd3786"
            ],
            [
             0.5555555555555556,
             "#d8576b"
            ],
            [
             0.6666666666666666,
             "#ed7953"
            ],
            [
             0.7777777777777778,
             "#fb9f3a"
            ],
            [
             0.8888888888888888,
             "#fdca26"
            ],
            [
             1,
             "#f0f921"
            ]
           ]
          },
          "colorway": [
           "#636efa",
           "#EF553B",
           "#00cc96",
           "#ab63fa",
           "#FFA15A",
           "#19d3f3",
           "#FF6692",
           "#B6E880",
           "#FF97FF",
           "#FECB52"
          ],
          "font": {
           "color": "#2a3f5f"
          },
          "geo": {
           "bgcolor": "white",
           "lakecolor": "white",
           "landcolor": "#E5ECF6",
           "showlakes": true,
           "showland": true,
           "subunitcolor": "white"
          },
          "hoverlabel": {
           "align": "left"
          },
          "hovermode": "closest",
          "mapbox": {
           "style": "light"
          },
          "paper_bgcolor": "white",
          "plot_bgcolor": "#E5ECF6",
          "polar": {
           "angularaxis": {
            "gridcolor": "white",
            "linecolor": "white",
            "ticks": ""
           },
           "bgcolor": "#E5ECF6",
           "radialaxis": {
            "gridcolor": "white",
            "linecolor": "white",
            "ticks": ""
           }
          },
          "scene": {
           "xaxis": {
            "backgroundcolor": "#E5ECF6",
            "gridcolor": "white",
            "gridwidth": 2,
            "linecolor": "white",
            "showbackground": true,
            "ticks": "",
            "zerolinecolor": "white"
           },
           "yaxis": {
            "backgroundcolor": "#E5ECF6",
            "gridcolor": "white",
            "gridwidth": 2,
            "linecolor": "white",
            "showbackground": true,
            "ticks": "",
            "zerolinecolor": "white"
           },
           "zaxis": {
            "backgroundcolor": "#E5ECF6",
            "gridcolor": "white",
            "gridwidth": 2,
            "linecolor": "white",
            "showbackground": true,
            "ticks": "",
            "zerolinecolor": "white"
           }
          },
          "shapedefaults": {
           "line": {
            "color": "#2a3f5f"
           }
          },
          "ternary": {
           "aaxis": {
            "gridcolor": "white",
            "linecolor": "white",
            "ticks": ""
           },
           "baxis": {
            "gridcolor": "white",
            "linecolor": "white",
            "ticks": ""
           },
           "bgcolor": "#E5ECF6",
           "caxis": {
            "gridcolor": "white",
            "linecolor": "white",
            "ticks": ""
           }
          },
          "title": {
           "x": 0.05
          },
          "xaxis": {
           "automargin": true,
           "gridcolor": "white",
           "linecolor": "white",
           "ticks": "",
           "title": {
            "standoff": 15
           },
           "zerolinecolor": "white",
           "zerolinewidth": 2
          },
          "yaxis": {
           "automargin": true,
           "gridcolor": "white",
           "linecolor": "white",
           "ticks": "",
           "title": {
            "standoff": 15
           },
           "zerolinecolor": "white",
           "zerolinewidth": 2
          }
         }
        },
        "title": {
         "text": "Descriptor Performance Analysis Dashboard - Enhanced"
        },
        "width": 1200,
        "xaxis": {
         "anchor": "y",
         "domain": [
          0,
          0.425
         ],
         "title": {
          "font": {
           "size": 12
          },
          "text": "Macro MAP"
         }
        },
        "xaxis2": {
         "anchor": "y2",
         "domain": [
          0.575,
          1
         ],
         "title": {
          "font": {
           "size": 12
          },
          "text": "Pooling Strategy"
         }
        },
        "xaxis3": {
         "anchor": "y3",
         "domain": [
          0,
          0.425
         ],
         "title": {
          "font": {
           "size": 12
          },
          "text": "Pooling Strategy"
         }
        },
        "xaxis4": {
         "anchor": "y4",
         "domain": [
          0.575,
          1
         ],
         "title": {
          "font": {
           "size": 12
          },
          "text": "Processing Time (seconds)"
         }
        },
        "xaxis5": {
         "anchor": "y5",
         "domain": [
          0,
          0.425
         ],
         "title": {
          "font": {
           "size": 12
          },
          "text": "MAP Type"
         }
        },
        "xaxis6": {
         "anchor": "y6",
         "domain": [
          0.575,
          1
         ]
        },
        "yaxis": {
         "anchor": "x",
         "domain": [
          0.7466666666666667,
          1
         ],
         "title": {
          "font": {
           "size": 12
          },
          "text": "Micro MAP"
         }
        },
        "yaxis2": {
         "anchor": "x2",
         "domain": [
          0.7466666666666667,
          1
         ],
         "title": {
          "font": {
           "size": 12
          },
          "text": "MAP Score"
         }
        },
        "yaxis3": {
         "anchor": "x3",
         "domain": [
          0.37333333333333335,
          0.6266666666666667
         ],
         "title": {
          "font": {
           "size": 12
          },
          "text": "Precision"
         }
        },
        "yaxis4": {
         "anchor": "x4",
         "domain": [
          0.37333333333333335,
          0.6266666666666667
         ],
         "title": {
          "font": {
           "size": 12
          },
          "text": "Macro MAP"
         }
        },
        "yaxis5": {
         "anchor": "x5",
         "domain": [
          0,
          0.25333333333333335
         ],
         "title": {
          "font": {
           "size": 12
          },
          "text": "Pooling Strategy"
         }
        },
        "yaxis6": {
         "anchor": "x6",
         "domain": [
          0,
          0.25333333333333335
         ],
         "title": {
          "font": {
           "size": 12
          },
          "text": "MAP Score"
         }
        }
       }
      },
      "image/png": "[encoded data removed]"
     },
     "metadata": {},
     "output_type": "display_data"
    }
   ],
   "source": [
    "# Create comprehensive performance dashboard with proper layout\n",
    "fig = make_subplots(\n",
    "    rows=3, cols=2,\n",
    "    subplot_titles=(\n",
    "        'Macro vs Micro MAP Comparison',\n",
    "        'MAP Metrics by Pooling Strategy', \n",
    "        'Precision@K Performance',\n",
    "        'Processing Time vs Performance',\n",
    "        'Performance Heatmap',\n",
    "        'MAP Distribution'\n",
    "    ),\n",
    "    specs=[[{\"secondary_y\": False}, {\"secondary_y\": False}],\n",
    "           [{\"secondary_y\": False}, {\"secondary_y\": False}],\n",
    "           [{\"secondary_y\": False}, {\"secondary_y\": False}]],\n",
    "    vertical_spacing=0.12,\n",
    "    horizontal_spacing=0.15\n",
    ")\n",
    "\n",
    "# Define colors for consistent plotting\n",
    "pooling_colors = {'None': 'lightblue', 'DSP': 'lightcoral', 'Stacking': 'lightgreen'}\n",
    "\n",
    "# Plot 1: Macro vs Micro MAP comparison\n",
    "fig.add_trace(\n",
    "    go.Scatter(\n",
    "        x=df_processed['macro_map'],\n",
    "        y=df_processed['micro_map'],\n",
    "        mode='markers+text',\n",
    "        text=df_processed['pooling_clean'],\n",
    "        textposition=\"middle right\",\n",
    "        marker=dict(\n",
    "            size=12,\n",
    "            color=[pooling_colors.get(p, 'gray') for p in df_processed['pooling_clean']],\n",
    "            line=dict(width=2, color='white')\n",
    "        ),\n",
    "        name=\"Macro vs Micro MAP\",\n",
    "        showlegend=False\n",
    "    ),\n",
    "    row=1, col=1\n",
    ")\n",
    "\n",
    "# Add diagonal reference line for macro vs micro\n",
    "min_map = min(df_processed['macro_map'].min(), df_processed['micro_map'].min())\n",
    "max_map = max(df_processed['macro_map'].max(), df_processed['micro_map'].max())\n",
    "fig.add_trace(\n",
    "    go.Scatter(\n",
    "        x=[min_map, max_map],\n",
    "        y=[min_map, max_map],\n",
    "        mode='lines',\n",
    "        line=dict(dash='dash', color='gray', width=1),\n",
    "        showlegend=False\n",
    "    ),\n",
    "    row=1, col=1\n",
    ")\n",
    "\n",
    "# Plot 2: MAP metrics by pooling strategy (grouped bar chart)\n",
    "pooling_stats = df_processed.groupby('pooling_clean').agg({\n",
    "    'macro_map': 'mean',\n",
    "    'micro_map': 'mean',\n",
    "    'mean_average_precision': 'mean'\n",
    "}).reset_index()\n",
    "\n",
    "colors = ['lightblue', 'lightcoral', 'lightgreen']\n",
    "for i, metric in enumerate(['macro_map', 'micro_map', 'mean_average_precision']):\n",
    "    fig.add_trace(\n",
    "        go.Bar(\n",
    "            name=metric.replace('_', ' ').title().replace('Mean Average Precision', 'Legacy MAP'),\n",
    "            x=pooling_stats['pooling_clean'],\n",
    "            y=pooling_stats[metric],\n",
    "            marker_color=colors[i],\n",
    "            offsetgroup=i,\n",
    "            width=0.25\n",
    "        ),\n",
    "        row=1, col=2\n",
    "    )\n",
    "\n",
    "# Plot 3: Precision@K performance\n",
    "precision_cols = ['precision_at_1', 'precision_at_5']\n",
    "for i, col in enumerate(precision_cols):\n",
    "    fig.add_trace(\n",
    "        go.Bar(\n",
    "            name=col.replace('_', '@').replace('precision', 'P'),\n",
    "            x=df_processed['pooling_clean'],\n",
    "            y=df_processed[col],\n",
    "            marker_color=['orange', 'purple'][i],\n",
    "            offsetgroup=i,\n",
    "            width=0.35\n",
    "        ),\n",
    "        row=2, col=1\n",
    "    )\n",
    "\n",
    "# Plot 4: Processing time vs performance\n",
    "fig.add_trace(\n",
    "    go.Scatter(\n",
    "        x=df_processed['processing_time_ms'] / 1000,  # Convert to seconds\n",
    "        y=df_processed['macro_map'],\n",
    "        mode='markers+text',\n",
    "        text=df_processed['pooling_clean'],\n",
    "        textposition=\"top center\",\n",
    "        marker=dict(\n",
    "            size=15,\n",
    "            color=df_processed['macro_map'],\n",
    "            colorscale='RdYlGn',\n",
    "            showscale=True,\n",
    "            colorbar=dict(title=\"Macro MAP\", len=0.3, y=0.4)\n",
    "        ),\n",
    "        name=\"Time vs Performance\",\n",
    "        showlegend=False\n",
    "    ),\n",
    "    row=2, col=2\n",
    ")\n",
    "\n",
    "# Plot 5: Performance heatmap (simplified)\n",
    "# Create a simple matrix for the heatmap\n",
    "heatmap_matrix = []\n",
    "heatmap_labels = []\n",
    "for pooling in df_processed['pooling_clean'].unique():\n",
    "    subset = df_processed[df_processed['pooling_clean'] == pooling]\n",
    "    if len(subset) > 0:\n",
    "        heatmap_matrix.append([subset['macro_map'].mean(), subset['micro_map'].mean()])\n",
    "        heatmap_labels.append(pooling)\n",
    "\n",
    "if heatmap_matrix:\n",
    "    fig.add_trace(\n",
    "        go.Heatmap(\n",
    "            z=heatmap_matrix,\n",
    "            x=['Macro MAP', 'Micro MAP'],\n",
    "            y=heatmap_labels,\n",
    "            colorscale='RdYlGn',\n",
    "            showscale=True,\n",
    "            colorbar=dict(title=\"MAP Value\", len=0.3, y=0.15),\n",
    "            text=[[f\"{val:.3f}\" for val in row] for row in heatmap_matrix],\n",
    "            texttemplate=\"%{text}\",\n",
    "            textfont={\"size\":12}\n",
    "        ),\n",
    "        row=3, col=1\n",
    "    )\n",
    "\n",
    "# Plot 6: MAP distribution\n",
    "fig.add_trace(\n",
    "    go.Box(\n",
    "        y=df_processed['macro_map'],\n",
    "        name=\"Macro MAP\",\n",
    "        boxpoints=\"all\",\n",
    "        jitter=0.3,\n",
    "        pointpos=-1.8,\n",
    "        marker=dict(color='lightblue')\n",
    "    ),\n",
    "    row=3, col=2\n",
    ")\n",
    "\n",
    "fig.add_trace(\n",
    "    go.Box(\n",
    "        y=df_processed['micro_map'],\n",
    "        name=\"Micro MAP\",\n",
    "        boxpoints=\"all\", \n",
    "        jitter=0.3,\n",
    "        pointpos=1.8,\n",
    "        marker=dict(color='lightcoral')\n",
    "    ),\n",
    "    row=3, col=2\n",
    ")\n",
    "\n",
    "# Update layout with better sizing\n",
    "fig.update_layout(\n",
    "    height=1000,  # Increased height for better readability\n",
    "    width=1200,   # Set width for proper proportions\n",
    "    title_text=\"Descriptor Performance Analysis Dashboard - Enhanced\",\n",
    "    showlegend=True,\n",
    "    legend=dict(\n",
    "        orientation=\"h\",\n",
    "        yanchor=\"bottom\",\n",
    "        y=1.02,\n",
    "        xanchor=\"right\", \n",
    "        x=1\n",
    "    )\n",
    ")\n",
    "\n",
    "# Update axis labels with proper sizing\n",
    "fig.update_xaxes(title_text=\"Macro MAP\", row=1, col=1, title_font_size=12)\n",
    "fig.update_yaxes(title_text=\"Micro MAP\", row=1, col=1, title_font_size=12)\n",
    "\n",
    "fig.update_xaxes(title_text=\"Pooling Strategy\", row=1, col=2, title_font_size=12)\n",
    "fig.update_yaxes(title_text=\"MAP Score\", row=1, col=2, title_font_size=12)\n",
    "\n",
    "fig.update_xaxes(title_text=\"Pooling Strategy\", row=2, col=1, title_font_size=12) \n",
    "fig.update_yaxes(title_text=\"Precision\", row=2, col=1, title_font_size=12)\n",
    "\n",
    "fig.update_xaxes(title_text=\"Processing Time (seconds)\", row=2, col=2, title_font_size=12)\n",
    "fig.update_yaxes(title_text=\"Macro MAP\", row=2, col=2, title_font_size=12)\n",
    "\n",
    "fig.update_xaxes(title_text=\"MAP Type\", row=3, col=1, title_font_size=12)\n",
    "fig.update_yaxes(title_text=\"Pooling Strategy\", row=3, col=1, title_font_size=12)\n",
    "\n",
    "fig.update_yaxes(title_text=\"MAP Score\", row=3, col=2, title_font_size=12)\n",
    "\n",
    "fig.show()"
   ]
  },
  {
   "cell_type": "markdown",
   "metadata": {},
   "source": [
    "## Dashboard Explanation\n",
    "\n",
    "### 🔍 **What Each Graph Shows:**\n",
    "\n",
    "#### **Top Left: Macro vs Micro MAP Comparison**\n",
    "- **Purpose**: Compare the two main evaluation metrics for each pooling strategy\n",
    "- **X-axis**: Macro MAP (balanced average across scenes)\n",
    "- **Y-axis**: Micro MAP (weighted by total queries)\n",
    "- **Diagonal line**: Perfect correlation reference (Macro = Micro)\n",
    "- **Key Insight**: Points above the line mean Micro MAP > Macro MAP\n",
    "- **What we see**: All methods have Micro MAP slightly higher than Macro MAP (~0.2% difference)\n",
    "\n",
    "#### **Top Right: MAP Metrics by Pooling Strategy**\n",
    "- **Purpose**: Compare all three MAP metrics side-by-side\n",
    "- **Bars**: Macro MAP (blue), Micro MAP (red), Legacy MAP (green)\n",
    "- **Key Insight**: DSP pooling consistently outperforms baseline across all metrics\n",
    "- **Performance ranking**: DSP > None ≈ Stacking\n",
    "\n",
    "#### **Middle Left: Precision@K Performance** \n",
    "- **Purpose**: Show retrieval precision at different cutoff points\n",
    "- **Orange bars**: Precision@1 (exact match rate)\n",
    "- **Purple bars**: Precision@5 (top-5 match rate)\n",
    "- **Key Insight**: P@5 is ~70% higher than P@1, indicating many correct matches rank in positions 2-5\n",
    "- **Best performer**: DSP shows highest precision at both cutoffs\n",
    "\n",
    "#### **Middle Right: Processing Time vs Performance**\n",
    "- **Purpose**: Analyze efficiency trade-offs\n",
    "- **X-axis**: Processing time in seconds\n",
    "- **Y-axis**: Macro MAP performance\n",
    "- **Color scale**: Green = higher performance\n",
    "- **Key Insight**: \"None\" pooling is fastest (~164s) but DSP's extra ~40s gives 2.6% better MAP\n",
    "- **Efficiency winner**: None (fastest), Performance winner: DSP\n",
    "\n",
    "#### **Bottom Left: Performance Heatmap**\n",
    "- **Purpose**: Visual comparison of Macro vs Micro MAP across pooling strategies\n",
    "- **Green cells**: Higher performance values\n",
    "- **Red cells**: Lower performance values\n",
    "- **Numbers**: Actual MAP values for precise comparison\n",
    "- **Key Insight**: DSP row is consistently greener (better) than others\n",
    "\n",
    "#### **Bottom Right: MAP Distribution**\n",
    "- **Purpose**: Show performance variability and outliers\n",
    "- **Blue box**: Macro MAP distribution\n",
    "- **Red box**: Micro MAP distribution  \n",
    "- **Dots**: Individual experiment results\n",
    "- **Key Insight**: Low variability suggests consistent results; Micro MAP has slightly higher values\n",
    "\n",
    "### **Overall Takeaways:**\n",
    "1. **DSP pooling** provides the best performance across all metrics\n",
    "2. **Processing time trade-off**: DSP takes ~25% more time for ~2.6% better MAP\n",
    "3. **Micro MAP > Macro MAP**: Suggests some scenes benefit more than others\n",
    "4. **Precision gap**: Large difference between P@1 and P@5 indicates ranking could be improved"
   ]
  },
  {
   "cell_type": "code",
   "execution_count": 27,
   "metadata": {},
   "outputs": [
    {
     "name": "stdout",
     "output_type": "stream",
     "text": [
      "=== ENHANCED PERFORMANCE SUMMARY ===\n",
      "\n",
      "1. MAP Metrics Comparison:\n",
      "       macro_map  micro_map  mean_average_precision\n",
      "count     4.0000     4.0000                  4.0000\n",
      "mean      0.3631     0.3648                  0.3631\n",
      "std       0.0048     0.0051                  0.0048\n",
      "min       0.3607     0.3622                  0.3607\n",
      "25%       0.3607     0.3622                  0.3607\n",
      "50%       0.3608     0.3623                  0.3608\n",
      "75%       0.3631     0.3648                  0.3631\n",
      "max       0.3703     0.3724                  0.3703\n",
      "\n",
      "2. Performance by Pooling Strategy (Focus on Macro/Micro MAP):\n",
      "  pooling_strategy  count  macro_map_mean  macro_map_std  micro_map_mean  \\\n",
      "0         Stacking      1          0.3607            0.0          0.3622   \n",
      "1              DSP      1          0.3703            0.0          0.3724   \n",
      "2             None      2          0.3608            0.0          0.3623   \n",
      "\n",
      "   micro_map_std  precision_at_1_mean  precision_at_1_std  \\\n",
      "0            0.0               0.2736                 0.0   \n",
      "1            0.0               0.2833                 0.0   \n",
      "2            0.0               0.2737                 0.0   \n",
      "\n",
      "   precision_at_5_mean  precision_at_5_std  \n",
      "0               0.4578                 0.0  \n",
      "1               0.4681                 0.0  \n",
      "2               0.4579                 0.0  \n",
      "\n",
      "3. Key Performance Insights:\n",
      "Best Macro MAP: 0.3703 (DSP pooling)\n",
      "Best Micro MAP: 0.3724 (DSP pooling)\n",
      "DSP vs None improvement: 2.64% (macro), 2.79% (micro)\n",
      "\n",
      "4. Macro vs Micro MAP Analysis:\n",
      "Average difference (Macro - Micro): -0.0017\n",
      "Max difference: -0.0015\n",
      "Min difference: -0.0021\n",
      "Note: Negative values indicate Micro MAP > Macro MAP\n",
      "\n",
      "5. Processing Efficiency Analysis:\n",
      "Efficiency Metrics (Macro MAP per Second):\n",
      "    Stacking: 0.001831 ± 0.000000 MAP/sec (197.0s avg)\n",
      "         DSP: 0.001833 ± 0.000000 MAP/sec (202.0s avg)\n",
      "        None: 0.002201 ± 0.000017 MAP/sec (163.9s avg)\n",
      "\n",
      "6. Dataset Summary:\n",
      "Total experiments analyzed: 4\n",
      "Pooling strategies tested: Stacking, DSP, None\n",
      "MAP range: 0.3607 - 0.3703\n",
      "Processing time range: 163.0s - 202.0s\n"
     ]
    }
   ],
   "source": [
    "# Statistical summary by key factors\n",
    "print(\"=== ENHANCED PERFORMANCE SUMMARY ===\")\n",
    "print(\"\\n1. MAP Metrics Comparison:\")\n",
    "map_comparison = df_processed[['macro_map', 'micro_map', 'mean_average_precision']].describe()\n",
    "print(map_comparison.round(4))\n",
    "\n",
    "print(\"\\n2. Performance by Pooling Strategy (Focus on Macro/Micro MAP):\")\n",
    "# Custom aggregation that handles single samples better\n",
    "pooling_summary = []\n",
    "for pooling in df_processed['pooling_clean'].unique():\n",
    "    subset = df_processed[df_processed['pooling_clean'] == pooling]\n",
    "    n = len(subset)\n",
    "    \n",
    "    summary_row = {\n",
    "        'pooling_strategy': pooling,\n",
    "        'count': n,\n",
    "        'macro_map_mean': subset['macro_map'].mean(),\n",
    "        'macro_map_std': subset['macro_map'].std() if n > 1 else 0.0,\n",
    "        'micro_map_mean': subset['micro_map'].mean(), \n",
    "        'micro_map_std': subset['micro_map'].std() if n > 1 else 0.0,\n",
    "        'precision_at_1_mean': subset['precision_at_1'].mean(),\n",
    "        'precision_at_1_std': subset['precision_at_1'].std() if n > 1 else 0.0,\n",
    "        'precision_at_5_mean': subset['precision_at_5'].mean(),\n",
    "        'precision_at_5_std': subset['precision_at_5'].std() if n > 1 else 0.0,\n",
    "    }\n",
    "    pooling_summary.append(summary_row)\n",
    "\n",
    "pooling_df = pd.DataFrame(pooling_summary)\n",
    "print(pooling_df.round(4))\n",
    "\n",
    "print(\"\\n3. Key Performance Insights:\")\n",
    "best_macro = df_processed.loc[df_processed['macro_map'].idxmax()]\n",
    "best_micro = df_processed.loc[df_processed['micro_map'].idxmax()]\n",
    "print(f\"Best Macro MAP: {best_macro['macro_map']:.4f} ({best_macro['pooling_clean']} pooling)\")\n",
    "print(f\"Best Micro MAP: {best_micro['micro_map']:.4f} ({best_micro['pooling_clean']} pooling)\")\n",
    "\n",
    "# Performance improvements vs baseline\n",
    "baseline_macro = df_processed[df_processed['pooling_clean'] == 'None']['macro_map'].mean()\n",
    "baseline_micro = df_processed[df_processed['pooling_clean'] == 'None']['micro_map'].mean()\n",
    "best_macro_improvement = ((best_macro['macro_map'] - baseline_macro) / baseline_macro) * 100\n",
    "best_micro_improvement = ((best_micro['micro_map'] - baseline_micro) / baseline_micro) * 100\n",
    "\n",
    "print(f\"DSP vs None improvement: {best_macro_improvement:.2f}% (macro), {best_micro_improvement:.2f}% (micro)\")\n",
    "\n",
    "print(f\"\\n4. Macro vs Micro MAP Analysis:\")\n",
    "macro_micro_diff = df_processed['macro_map'] - df_processed['micro_map']\n",
    "print(f\"Average difference (Macro - Micro): {macro_micro_diff.mean():.4f}\")\n",
    "print(f\"Max difference: {macro_micro_diff.max():.4f}\")\n",
    "print(f\"Min difference: {macro_micro_diff.min():.4f}\")\n",
    "print(\"Note: Negative values indicate Micro MAP > Macro MAP\")\n",
    "\n",
    "print(f\"\\n5. Processing Efficiency Analysis:\")\n",
    "df_processed['map_per_second'] = df_processed['macro_map'] / (df_processed['processing_time_ms'] / 1000)\n",
    "print(\"Efficiency Metrics (Macro MAP per Second):\")\n",
    "for pooling in df_processed['pooling_clean'].unique():\n",
    "    subset = df_processed[df_processed['pooling_clean'] == pooling]\n",
    "    mean_eff = subset['map_per_second'].mean()\n",
    "    std_eff = subset['map_per_second'].std() if len(subset) > 1 else 0.0\n",
    "    processing_time = subset['processing_time_ms'].mean() / 1000  # Convert to seconds\n",
    "    print(f\"  {pooling:>10}: {mean_eff:.6f} ± {std_eff:.6f} MAP/sec ({processing_time:.1f}s avg)\")\n",
    "\n",
    "print(f\"\\n6. Dataset Summary:\")\n",
    "print(f\"Total experiments analyzed: {len(df_processed)}\")\n",
    "print(f\"Pooling strategies tested: {', '.join(df_processed['pooling_clean'].unique())}\")\n",
    "print(f\"MAP range: {df_processed['macro_map'].min():.4f} - {df_processed['macro_map'].max():.4f}\")\n",
    "print(f\"Processing time range: {df_processed['processing_time_ms'].min()/1000:.1f}s - {df_processed['processing_time_ms'].max()/1000:.1f}s\")"
   ]
  },
  {
   "cell_type": "code",
   "execution_count": 12,
   "metadata": {},
   "outputs": [
    {
     "name": "stdout",
     "output_type": "stream",
     "text": [
      "Analysis results exported to ../outputs\n",
      "Total experiments analyzed: 4\n"
     ]
    }
   ],
   "source": [
    "# Export results for further analysis\n",
    "output_dir = Path(\"../outputs\")\n",
    "output_dir.mkdir(exist_ok=True)\n",
    "\n",
    "# Save processed data\n",
    "df_processed.to_csv(output_dir / \"descriptor_performance_analysis.csv\", index=False)\n",
    "\n",
    "# Save summary statistics\n",
    "with open(output_dir / \"performance_summary.txt\", 'w') as f:\n",
    "    f.write(\"DESCRIPTOR PERFORMANCE ANALYSIS SUMMARY\\n\")\n",
    "    f.write(\"=\" * 50 + \"\\n\\n\")\n",
    "    \n",
    "    f.write(\"BASE DESCRIPTOR PERFORMANCE:\\n\")\n",
    "    f.write(base_desc_stats.to_string())\n",
    "    f.write(\"\\n\\nPOOLING STRATEGY PERFORMANCE:\\n\")\n",
    "    f.write(pooling_stats.to_string())\n",
    "    f.write(\"\\n\\nCOLOR USAGE PERFORMANCE:\\n\")\n",
    "    f.write(color_stats.to_string())\n",
    "\n",
    "print(f\"Analysis results exported to {output_dir}\")\n",
    "print(f\"Total experiments analyzed: {len(df_processed)}\")"
   ]
  },
  {
   "cell_type": "code",
   "execution_count": null,
   "metadata": {},
   "outputs": [],
   "source": []
  },
  {
   "cell_type": "code",
   "execution_count": null,
   "metadata": {},
   "outputs": [],
   "source": []
  },
  {
   "cell_type": "code",
   "execution_count": null,
   "metadata": {},
   "outputs": [],
   "source": []
  },
  {
   "cell_type": "code",
   "execution_count": null,
   "metadata": {},
   "outputs": [],
   "source": []
  }
 ],
 "metadata": {
  "kernelspec": {
   "display_name": "Python 3 (ipykernel)",
   "language": "python",
   "name": "python3"
  },
  "language_info": {
   "codemirror_mode": {
    "name": "ipython",
    "version": 3
   },
   "file_extension": ".py",
   "mimetype": "text/x-python",
   "name": "python",
   "nbconvert_exporter": "python",
   "pygments_lexer": "ipython3",
   "version": "3.11.13"
  }
 },
 "nbformat": 4,
 "nbformat_minor": 4
}
